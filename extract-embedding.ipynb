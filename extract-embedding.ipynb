{
 "cells": [
  {
   "cell_type": "code",
   "execution_count": 1,
   "metadata": {},
   "outputs": [],
   "source": [
    "import tensorflow as tf\n",
    "import numpy as np\n",
    "import os\n",
    "from tensorflow.contrib import learn"
   ]
  },
  {
   "cell_type": "code",
   "execution_count": 2,
   "metadata": {},
   "outputs": [],
   "source": [
    "# Input: Product description\n",
    "proudct_description = \"How to be a Data Scientist?\""
   ]
  },
  {
   "cell_type": "code",
   "execution_count": 3,
   "metadata": {},
   "outputs": [],
   "source": [
    "# Absolute path to pre-trained model\n",
    "model_path = './model_triplet/'"
   ]
  },
  {
   "cell_type": "code",
   "execution_count": 4,
   "metadata": {},
   "outputs": [],
   "source": [
    "def model_output(feed_data):\n",
    "    checkpoint_file = tf.train.latest_checkpoint(model_path)\n",
    "    graph = tf.Graph()\n",
    "    with graph.as_default():\n",
    "        sess = tf.Session()\n",
    "        with sess.as_default():\n",
    "            # Load the saved meta graph and restore variables\n",
    "            saver = tf.train.import_meta_graph(\"{}.meta\".format(checkpoint_file))\n",
    "            saver.restore(sess, checkpoint_file)\n",
    "\n",
    "            # Get the placeholders from the graph by name\n",
    "            anchor_input = graph.get_operation_by_name(\"anchor_input\").outputs[0]\n",
    "\n",
    "            # Tensors we want to evaluate\n",
    "            predictions = graph.get_operation_by_name(\"output/scores\").outputs[0]\n",
    "\n",
    "            batch_predictions = sess.run(predictions, {anchor_input: feed_data})\n",
    "    return batch_predictions"
   ]
  },
  {
   "cell_type": "code",
   "execution_count": 5,
   "metadata": {},
   "outputs": [
    {
     "name": "stdout",
     "output_type": "stream",
     "text": [
      "WARNING:tensorflow:From /Users/s0d02zy/anaconda3/lib/python3.7/site-packages/tensorflow/contrib/learn/python/learn/preprocessing/text.py:170: tokenizer (from tensorflow.contrib.learn.python.learn.preprocessing.text) is deprecated and will be removed in a future version.\n",
      "Instructions for updating:\n",
      "Please use tensorflow/transform or tf.data.\n"
     ]
    }
   ],
   "source": [
    "vocab_processor = learn.preprocessing.VocabularyProcessor.restore(os.path.join(model_path,'vocab'))\n",
    "query = list(proudct_description.lower())\n",
    "input_queries = np.asarray(list(vocab_processor.fit_transform(query)))"
   ]
  },
  {
   "cell_type": "code",
   "execution_count": 6,
   "metadata": {},
   "outputs": [
    {
     "name": "stdout",
     "output_type": "stream",
     "text": [
      "WARNING:tensorflow:From /Users/s0d02zy/anaconda3/lib/python3.7/site-packages/tensorflow/python/training/saver.py:1276: checkpoint_exists (from tensorflow.python.training.checkpoint_management) is deprecated and will be removed in a future version.\n",
      "Instructions for updating:\n",
      "Use standard file APIs to check for files with this prefix.\n",
      "INFO:tensorflow:Restoring parameters from ./model_triplet/model.ckpt\n"
     ]
    }
   ],
   "source": [
    "# Embeddings output. If you want to use this embedding to calculate Cosine Similariy use normalized_search_vec otherwise use search_vec\n",
    "search_vector = model_output([input_queries[0]])\n",
    "normalized_search_vec = search_vector/np.linalg.norm(search_vector)"
   ]
  },
  {
   "cell_type": "code",
   "execution_count": 7,
   "metadata": {},
   "outputs": [
    {
     "data": {
      "text/plain": [
       "array([[ 0.05262626, -0.00264335,  0.07993794,  0.02911486,  0.02269759,\n",
       "         0.00103464,  0.10358413, -0.02973807,  0.11685188, -0.04894967,\n",
       "         0.2039279 ,  0.05298984,  0.08213813,  0.20029685, -0.04253881,\n",
       "        -0.17638089,  0.06891768, -0.19262414,  0.07280152, -0.15253764,\n",
       "         0.11685878,  0.07485873,  0.04729625,  0.01468286,  0.08322117,\n",
       "        -0.11493384,  0.10002071, -0.04439765,  0.10470331,  0.11995051,\n",
       "         0.1206241 , -0.00569199,  0.00602936,  0.0979889 ,  0.03025612,\n",
       "         0.08478511, -0.087451  ,  0.01100716, -0.08497767,  0.0387924 ,\n",
       "         0.09857648,  0.1459805 ,  0.08087683,  0.05197299,  0.03234304,\n",
       "         0.1695136 , -0.03772631, -0.03163011,  0.1368965 , -0.0917856 ,\n",
       "        -0.0015972 , -0.06774934,  0.03845465,  0.04433918,  0.01723175,\n",
       "         0.02665458, -0.02002201, -0.00640369,  0.11016691,  0.02010413,\n",
       "        -0.08146188, -0.07037491, -0.07068834, -0.07813729, -0.01317574,\n",
       "        -0.08304118, -0.3052911 ,  0.06802749,  0.19282168,  0.17638424,\n",
       "        -0.0016634 ,  0.04293442,  0.10148284, -0.00702298, -0.03352321,\n",
       "         0.10029078, -0.08847297, -0.00705423, -0.1204813 , -0.13148284,\n",
       "         0.05015694,  0.00513808,  0.08841138, -0.02127095,  0.15017538,\n",
       "         0.0908372 , -0.09480689,  0.01460865, -0.12148151,  0.10726101,\n",
       "        -0.01764399,  0.01322141,  0.04334143, -0.05453441, -0.04544747,\n",
       "        -0.01260563,  0.00293606,  0.07919741,  0.00963524, -0.03141014,\n",
       "         0.00071826,  0.00995738, -0.02550181, -0.03298339,  0.1396844 ,\n",
       "         0.05019692,  0.04226714,  0.11296535,  0.05481362,  0.00184147,\n",
       "        -0.01424995, -0.12371277,  0.0436357 , -0.00377412, -0.0754865 ,\n",
       "         0.04015996, -0.04564934, -0.04857492, -0.04571905,  0.03758409,\n",
       "         0.23227683,  0.0420678 , -0.09858055,  0.01467657, -0.00658898,\n",
       "         0.03414075,  0.1124639 ,  0.11392692]], dtype=float32)"
      ]
     },
     "execution_count": 7,
     "metadata": {},
     "output_type": "execute_result"
    }
   ],
   "source": [
    "# normalized item embedding\n",
    "normalized_search_vec"
   ]
  },
  {
   "cell_type": "code",
   "execution_count": null,
   "metadata": {},
   "outputs": [],
   "source": []
  }
 ],
 "metadata": {
  "kernelspec": {
   "display_name": "Python 3",
   "language": "python",
   "name": "python3"
  },
  "language_info": {
   "codemirror_mode": {
    "name": "ipython",
    "version": 3
   },
   "file_extension": ".py",
   "mimetype": "text/x-python",
   "name": "python",
   "nbconvert_exporter": "python",
   "pygments_lexer": "ipython3",
   "version": "3.7.3"
  }
 },
 "nbformat": 4,
 "nbformat_minor": 2
}
